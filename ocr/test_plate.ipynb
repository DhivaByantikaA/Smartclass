{
 "cells": [
  {
   "cell_type": "code",
   "execution_count": 6,
   "metadata": {},
   "outputs": [],
   "source": [
    "import cv2\n",
    "from paddleocr import PaddleOCR\n",
    "from paddle_func import clahe_process, plate_paddle"
   ]
  },
  {
   "cell_type": "code",
   "execution_count": 7,
   "metadata": {},
   "outputs": [],
   "source": [
    "path = './images/'\n",
    "filename = 'plat3.png'"
   ]
  },
  {
   "cell_type": "code",
   "execution_count": 8,
   "metadata": {},
   "outputs": [
    {
     "data": {
      "text/plain": [
       "True"
      ]
     },
     "execution_count": 8,
     "metadata": {},
     "output_type": "execute_result"
    }
   ],
   "source": [
    "# # Preprocess\n",
    "new_filename = filename+'_preprocess.jpg'\n",
    "img = cv2.imread(path+filename)\n",
    "img = cv2.cvtColor(img, cv2.COLOR_BGR2RGB)\n",
    "image = clahe_process (img)\n",
    "cv2.imwrite(path+new_filename, image)"
   ]
  },
  {
   "cell_type": "code",
   "execution_count": 9,
   "metadata": {},
   "outputs": [
    {
     "name": "stdout",
     "output_type": "stream",
     "text": [
      "plat3.png_preprocess.jpg : {'plate': ' B 1909  NRK ', 'scores': 0.91, 'position': [286, 618, 813, 708]}\n"
     ]
    }
   ],
   "source": [
    "# Reading Text & Postprocess\n",
    "fr_digit = ['8','3','0','1','2']\n",
    "fr_alpha = ['B','B','O','I','Z']\n",
    "\n",
    "ocr = PaddleOCR(use_angle_cls=True,show_log=False)\n",
    "if ocr.ocr(path+new_filename) == None:\n",
    "\n",
    "    plate_result = {'plate': 'no text detected',\n",
    "                'scores': 0,\n",
    "                'position': []\n",
    "            }\n",
    "else:\n",
    "\n",
    "    result = ocr.ocr(newpath+filename)[0]\n",
    "    plate_result = plate_paddle(result,fr_digit,fr_alpha)\n",
    "    \n",
    "print(new_filename,':',plate_result)"
   ]
  },
  {
   "cell_type": "code",
   "execution_count": 5,
   "metadata": {},
   "outputs": [
    {
     "data": {
      "text/plain": [
       "'nt'"
      ]
     },
     "execution_count": 5,
     "metadata": {},
     "output_type": "execute_result"
    }
   ],
   "source": [
    "import os\n",
    "\n",
    "\n",
    "os.name"
   ]
  },
  {
   "cell_type": "code",
   "execution_count": null,
   "metadata": {},
   "outputs": [],
   "source": []
  },
  {
   "cell_type": "code",
   "execution_count": null,
   "metadata": {},
   "outputs": [],
   "source": []
  }
 ],
 "metadata": {
  "kernelspec": {
   "display_name": "base",
   "language": "python",
   "name": "python3"
  },
  "language_info": {
   "codemirror_mode": {
    "name": "ipython",
    "version": 3
   },
   "file_extension": ".py",
   "mimetype": "text/x-python",
   "name": "python",
   "nbconvert_exporter": "python",
   "pygments_lexer": "ipython3",
   "version": "3.11.5"
  }
 },
 "nbformat": 4,
 "nbformat_minor": 2
}
